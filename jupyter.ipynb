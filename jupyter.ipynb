{
 "cells": [
  {
   "cell_type": "markdown",
   "metadata": {},
   "source": [
    "Importando as bibliotecas\n",
    "OBS: Intelisense não funciona aqui"
   ]
  },
  {
   "cell_type": "code",
   "execution_count": 1,
   "metadata": {},
   "outputs": [],
   "source": [
    "from service.getWorkspaces import Workspace\n",
    "from service.credentialRead import credentialRead\n",
    "from service.getSpaces import Spaces\n",
    "from service.getListas import List\n",
    "from service.getTasks import Tasks\n",
    "from service.getSubtasks import Subtasks"
   ]
  },
  {
   "cell_type": "markdown",
   "metadata": {},
   "source": [
    "Informações necessárias"
   ]
  },
  {
   "cell_type": "code",
   "execution_count": 5,
   "metadata": {},
   "outputs": [],
   "source": [
    "credenciais = credentialRead(\"credenciais.json\")\n",
    "token = credenciais[\"token\"]\n",
    "header = {\"Authorization\": token[\"lucas-ffaf\"]}\n",
    "\n",
    "workspace_procurado = \"projete 5d\"\n",
    "space_procurado = \"templates projete 5d\"\n"
   ]
  },
  {
   "cell_type": "markdown",
   "metadata": {},
   "source": [
    "Obtendo workspace"
   ]
  },
  {
   "cell_type": "code",
   "execution_count": 3,
   "metadata": {},
   "outputs": [],
   "source": [
    "workspaces_get = Workspace(header,workspace_procurado)\n",
    "status_workspace = workspaces_get.getWorkspaceStatus()\n",
    "workspace_id = workspaces_get.getWorspaceID()\n",
    "\n",
    "members_id = workspaces_get.getMembersID()\n",
    "members_email = workspaces_get.getMembersEmail()\n",
    "members_name = workspaces_get.getMembersName()"
   ]
  },
  {
   "cell_type": "markdown",
   "metadata": {},
   "source": [
    "Obtendo informações do espaço"
   ]
  },
  {
   "cell_type": "code",
   "execution_count": 6,
   "metadata": {},
   "outputs": [],
   "source": [
    "spaces_get = Spaces(header,space_procurado,workspace_id)\n",
    "status_space = spaces_get.getSpacesStatus()\n",
    "space_id = spaces_get.getSpaceID()"
   ]
  },
  {
   "cell_type": "markdown",
   "metadata": {},
   "source": [
    "Obtendo informações da lista"
   ]
  },
  {
   "cell_type": "code",
   "execution_count": 5,
   "metadata": {},
   "outputs": [],
   "source": [
    "lista_get = List(header,\"005 - PROJETE 5D GESTÃO À VISTA \",space_id)\n",
    "status_list = lista_get.getListsStatus()\n",
    "list_id = lista_get.getListID()"
   ]
  },
  {
   "cell_type": "markdown",
   "metadata": {},
   "source": [
    "Obtendo as tasks da lista"
   ]
  },
  {
   "cell_type": "code",
   "execution_count": 6,
   "metadata": {},
   "outputs": [],
   "source": [
    "tasks_get = Tasks(header,list_id)\n",
    "status_task = tasks_get.getTasksStatus()\n",
    "tasksID = tasks_get.getTasksID()"
   ]
  },
  {
   "cell_type": "markdown",
   "metadata": {},
   "source": [
    "Coletando as subtasks"
   ]
  },
  {
   "cell_type": "code",
   "execution_count": 7,
   "metadata": {},
   "outputs": [],
   "source": [
    "subtasks = []\n",
    "for taskid in tasksID:\n",
    "    subtask_get = Subtasks(header,taskid)\n",
    "    status_subtask = subtask_get.getSubtasksStatus()\n",
    "    subtasks.append(subtask_get.getSubtasks()) \n",
    "\n",
    "\n",
    "\n",
    "    "
   ]
  }
 ],
 "metadata": {
  "kernelspec": {
   "display_name": "Python 3.10.4 ('api-ambiente': venv)",
   "language": "python",
   "name": "python3"
  },
  "language_info": {
   "codemirror_mode": {
    "name": "ipython",
    "version": 3
   },
   "file_extension": ".py",
   "mimetype": "text/x-python",
   "name": "python",
   "nbconvert_exporter": "python",
   "pygments_lexer": "ipython3",
   "version": "3.10.4"
  },
  "orig_nbformat": 4,
  "vscode": {
   "interpreter": {
    "hash": "d7472852d715fbc559b14005cdc4c049810fd4aef2c8a46a3715ce4d041fa9fb"
   }
  }
 },
 "nbformat": 4,
 "nbformat_minor": 2
}
