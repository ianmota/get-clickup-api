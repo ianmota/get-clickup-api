{
 "cells": [
  {
   "cell_type": "markdown",
   "metadata": {},
   "source": [
    "Importando as bibliotecas\n",
    "OBS: Intelisense não funciona aqui"
   ]
  },
  {
   "cell_type": "code",
   "execution_count": 1,
   "metadata": {},
   "outputs": [],
   "source": [
    "from service.getWorkspaces import Workspace\n",
    "from service.credentialRead import credentialRead\n",
    "from service.getSpaces import Spaces\n",
    "from service.getListas import List\n",
    "from service.getTasks import Tasks\n",
    "from service.getSubtasks import Subtasks"
   ]
  },
  {
   "cell_type": "markdown",
   "metadata": {},
   "source": [
    "Informações necessárias"
   ]
  },
  {
   "cell_type": "code",
   "execution_count": 2,
   "metadata": {},
   "outputs": [],
   "source": [
    "credenciais = credentialRead(\"credenciais.json\")\n",
    "token = credenciais[\"token\"]\n",
    "header = {\"Authorization\": token[\"lucas-ffaf\"]}\n",
    "\n",
    "workspace_procurado = \"projete 5d\"\n",
    "space_procurado = \"templates projete 5d\"\n",
    "lista_procurada = \"005 - PROJETE 5D GESTÃO À VISTA\"\n"
   ]
  },
  {
   "cell_type": "markdown",
   "metadata": {},
   "source": [
    "Obtendo workspace e informações dos membros"
   ]
  },
  {
   "cell_type": "code",
   "execution_count": 3,
   "metadata": {},
   "outputs": [],
   "source": [
    "workspaces_get = Workspace(header,workspace_procurado)\n",
    "status_workspace = workspaces_get.getWorkspaceStatus()\n",
    "workspace_id = workspaces_get.getWorspaceID()\n",
    "\n",
    "members_id = workspaces_get.getMembersID()\n",
    "members_email = workspaces_get.getMembersEmail()\n",
    "members_name = workspaces_get.getMembersName()"
   ]
  },
  {
   "cell_type": "markdown",
   "metadata": {},
   "source": [
    "Obtendo informações do espaço"
   ]
  },
  {
   "cell_type": "code",
   "execution_count": 4,
   "metadata": {},
   "outputs": [],
   "source": [
    "spaces_get = Spaces(header,space_procurado,workspace_id)\n",
    "status_space = spaces_get.getSpacesStatus()\n",
    "space_id = spaces_get.getSpaceID()"
   ]
  },
  {
   "cell_type": "markdown",
   "metadata": {},
   "source": [
    "Obtendo informações da lista"
   ]
  },
  {
   "cell_type": "code",
   "execution_count": 5,
   "metadata": {},
   "outputs": [
    {
     "name": "stdout",
     "output_type": "stream",
     "text": [
      "[{'id': '62511258-8286-44a5-aea0-ab232077b041', 'name': 'VLD', 'color': '#0231E8', 'orderindex': 0}, {'id': '44502988-08f5-4d92-8627-fcd76a2a8a4b', 'name': 'Max Trindade', 'color': '#e50000', 'orderindex': 1}, {'id': '1f8d0c05-20e5-46b5-96be-61f9e54822b9', 'name': 'Max Carneiros 2 ', 'color': '#FF7FAB', 'orderindex': 2}, {'id': '44d64a08-181a-4a43-b63b-5801d4e1f4e4', 'name': 'Oscar Freire', 'color': '#81B1FF', 'orderindex': 3}, {'id': '56137a6d-aef4-464f-8786-90ad60f04b29', 'name': 'Max Derby 2', 'color': '#2ecd6f', 'orderindex': 4}, {'id': '562f65d2-9410-4cd2-a9a9-47f5c7f692dd', 'name': 'Noemia Paraíso', 'color': '#f9d900', 'orderindex': 5}, {'id': 'd4dc7322-cf9a-4b42-a2fb-fd06ac690bdb', 'name': 'Morata Residence', 'color': '#AF7E2E', 'orderindex': 6}, {'id': '425e65ef-bef7-438d-ab5d-1f4480034b25', 'name': 'Carlos Mendonça ', 'color': '#bf55ec', 'orderindex': 7}, {'id': '4be8e493-b7b1-4e0a-8082-b93e83750ecd', 'name': 'ROOF Tamandaré', 'color': '#ff7800', 'orderindex': 8}, {'id': '6d12e5a9-eb39-43e9-ac4a-a1ed7604cf7c', 'name': 'Quinta dos Camarás ', 'color': '#1bbc9c', 'orderindex': 9}, {'id': '55037e30-d0b1-42bf-b15d-a5ecb2e0b44a', 'name': 'Atividades Complementares', 'color': '#667684', 'orderindex': 10}]\n"
     ]
    }
   ],
   "source": [
    "lista_get = List(header,lista_procurada,space_id)\n",
    "status_list = lista_get.getListsStatus()\n",
    "list_id = lista_get.getListID()\n",
    "list_empreendimentos = lista_get.getEmpreendimentos()"
   ]
  },
  {
   "cell_type": "markdown",
   "metadata": {},
   "source": [
    "Obtendo as tasks da lista"
   ]
  },
  {
   "cell_type": "code",
   "execution_count": 6,
   "metadata": {},
   "outputs": [],
   "source": [
    "tasks_get = Tasks(header,list_id)\n",
    "status_task = tasks_get.getTasksStatus()\n",
    "tasksID = tasks_get.getTasksID()"
   ]
  },
  {
   "cell_type": "markdown",
   "metadata": {},
   "source": [
    "Coletando as subtasks"
   ]
  },
  {
   "cell_type": "code",
   "execution_count": 7,
   "metadata": {},
   "outputs": [],
   "source": [
    "subtasks = []\n",
    "for taskid in tasksID:\n",
    "    subtask_get = Subtasks(header,taskid)\n",
    "    status_subtask = subtask_get.getSubtasksStatus()\n",
    "    subtasks.append(subtask_get.getSubtasks()) \n",
    "\n",
    "\n",
    "\n",
    "    "
   ]
  }
 ],
 "metadata": {
  "kernelspec": {
   "display_name": "Python 3.10.4 ('api-ambiente': venv)",
   "language": "python",
   "name": "python3"
  },
  "language_info": {
   "codemirror_mode": {
    "name": "ipython",
    "version": 3
   },
   "file_extension": ".py",
   "mimetype": "text/x-python",
   "name": "python",
   "nbconvert_exporter": "python",
   "pygments_lexer": "ipython3",
   "version": "3.10.4"
  },
  "orig_nbformat": 4,
  "vscode": {
   "interpreter": {
    "hash": "d7472852d715fbc559b14005cdc4c049810fd4aef2c8a46a3715ce4d041fa9fb"
   }
  }
 },
 "nbformat": 4,
 "nbformat_minor": 2
}
